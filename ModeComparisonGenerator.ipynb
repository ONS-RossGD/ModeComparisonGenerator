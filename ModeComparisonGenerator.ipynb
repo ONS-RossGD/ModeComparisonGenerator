{
 "cells": [
  {
   "cell_type": "markdown",
   "metadata": {},
   "source": [
    "<div id='firstRun'>\n",
    "    <h2 style=\"color:red\">If this is your first time \n",
    "    opening the script or you do not see the user interface buttons, please click \"Cell\" then \"Run All\" in \n",
    "    the menu bar above.</h2>\n",
    "</div>"
   ]
  },
  {
   "cell_type": "code",
   "execution_count": 192,
   "metadata": {
    "collapsed": true
   },
   "outputs": [],
   "source": [
    "import os, sys\n",
    "import pandas as pd, ipywidgets as widgets\n",
    "from IPython.display import display, HTML"
   ]
  },
  {
   "cell_type": "code",
   "execution_count": 193,
   "metadata": {
    "scrolled": true
   },
   "outputs": [
    {
     "data": {
      "text/html": [
       "<style>\n",
       ".spec_button {\n",
       "    font-size:2em;\n",
       "}\n",
       "#error {\n",
       "    height: 60px;\n",
       "    text-align: center;\n",
       "    font-size:3em;\n",
       "    font-weight: bold;\n",
       "    color: red;\n",
       "    padding: 5px;\n",
       "}\n",
       "</style>\n",
       "<script>\n",
       "code_show=true;\n",
       "var x = document.getElementById(\"firstRun\");\n",
       "function code_toggle() {\n",
       "    if (code_show){\n",
       "        $('div.input').hide();\n",
       "    } else {\n",
       "        $('div.input').show();\n",
       "    }\n",
       "    x.style.display = \"none\";\n",
       "    code_show = !code_show\n",
       "} \n",
       "function changeColor(id)\n",
       "{\n",
       "  document.getElementById(id).style.color = \"#27b307\"; // forecolor\n",
       "}\n",
       "$( document ).ready(code_toggle);\n",
       "</script>\n",
       "The raw code for this notebook is hidden by default for easier reading.\n",
       "To toggle the raw code on/off, click <a href=\"javascript:code_toggle()\">here</a>."
      ],
      "text/plain": [
       "<IPython.core.display.HTML object>"
      ]
     },
     "metadata": {},
     "output_type": "display_data"
    }
   ],
   "source": [
    "%%html\n",
    "<style>\n",
    ".spec_button {\n",
    "    font-size:2em;\n",
    "}\n",
    "#error {\n",
    "    height: 60px;\n",
    "    text-align: center;\n",
    "    font-size:3em;\n",
    "    font-weight: bold;\n",
    "    color: red;\n",
    "    padding: 5px;\n",
    "}\n",
    "</style>\n",
    "<script>\n",
    "code_show=true;\n",
    "var x = document.getElementById(\"firstRun\");\n",
    "function code_toggle() {\n",
    "    if (code_show){\n",
    "        $('div.input').hide();\n",
    "    } else {\n",
    "        $('div.input').show();\n",
    "    }\n",
    "    x.style.display = \"none\";\n",
    "    code_show = !code_show\n",
    "} \n",
    "function changeColor(id)\n",
    "{\n",
    "  document.getElementById(id).style.color = \"#27b307\"; // forecolor\n",
    "}\n",
    "$( document ).ready(code_toggle);\n",
    "</script>\n",
    "The raw code for this notebook is hidden by default for easier reading.\n",
    "To toggle the raw code on/off, click <a href=\"javascript:code_toggle()\">here</a>."
   ]
  },
  {
   "cell_type": "code",
   "execution_count": 194,
   "metadata": {},
   "outputs": [
    {
     "data": {
      "application/vnd.jupyter.widget-view+json": {
       "model_id": "58e3e79aad9b4a399c612e528dc2b8fb"
      }
     },
     "metadata": {},
     "output_type": "display_data"
    },
    {
     "data": {
      "application/vnd.jupyter.widget-view+json": {
       "model_id": "9a98d4f8489c46b3a37b46108e885df0"
      }
     },
     "metadata": {},
     "output_type": "display_data"
    }
   ],
   "source": [
    "#Create button widget which opens spec.csv in excel.\n",
    "button = widgets.Button(description=\"Open Specification File\", button_style = 'info', layout=widgets.Layout(width='auto',height = '50px'))\n",
    "output = widgets.Output()\n",
    "button.add_class('spec_button')\n",
    "\n",
    "display(button, output)\n",
    "\n",
    "def on_button_clicked(b):\n",
    "    with output:\n",
    "        print(\"Opening specification file...\")\n",
    "        os.system('start \"excel\" \"spec.xlsx\"')\n",
    "\n",
    "button.on_click(on_button_clicked)"
   ]
  },
  {
   "cell_type": "code",
   "execution_count": 195,
   "metadata": {
    "scrolled": true
   },
   "outputs": [],
   "source": [
    "#Read spec.xlsx\n",
    "try:\n",
    "    spec = pd.read_excel('spec.xlsx', 'Spec')\n",
    "except PermissionError as e:\n",
    "    display(HTML('<p id=\"error\">Close spec in excel</p>'))\n",
    "    sys.exit(e)\n",
    "out = pd.DataFrame(columns=['Generated Links'])\n",
    "srcMode = spec.loc[0, 'Source Mode']\n",
    "targMode = spec.loc[0, 'Target Mode']\n",
    "id_counter = 0"
   ]
  },
  {
   "cell_type": "code",
   "execution_count": 196,
   "metadata": {
    "collapsed": true
   },
   "outputs": [],
   "source": [
    "#Format to make links clickable in dataframe display\n",
    "def make_clickable(val):\n",
    "    global id_counter\n",
    "    name = val.split('#')[0]\n",
    "    url = val.split('#')[1]\n",
    "    id_counter += 1\n",
    "    return '<a target=\"_blank\" id=\"link{}\" href=\"{}\" onclick=\"changeColor({});\">{}</a>'.format(id_counter, url, \"'link\"+str(id_counter)+\"'\", name)"
   ]
  },
  {
   "cell_type": "code",
   "execution_count": 197,
   "metadata": {
    "collapsed": true
   },
   "outputs": [],
   "source": [
    "#Main loop to generate links from Stat Act names and modes\n",
    "for r, statAct in enumerate(spec['Stat Acts'].dropna().tolist()):\n",
    "    statActURL='DTOstatisticalactivity.StatisticalActivityPK-name%3A'\\\n",
    "            +statAct.replace(' ', '%20').replace('&','%26')\n",
    "    url = 'http://cordwl-p-02:7001/cordprd/cosmosna/runReports.do?'\\\n",
    "        'methodToCall=confirmComparisonReport&statactid='+statActURL+\\\n",
    "        '&m='+srcMode+'&id='+statActURL+'&comparisonModeName='+targMode\n",
    "    out.loc[r+1, 'Generated Links'] = statAct+'#'+url"
   ]
  },
  {
   "cell_type": "code",
   "execution_count": 198,
   "metadata": {
    "scrolled": false
   },
   "outputs": [
    {
     "data": {
      "text/html": [
       "<style  type=\"text/css\" >\n",
       "</style>  \n",
       "<table id=\"T_61d033f8_3196_11ec_acd7_b469210d5448\" > \n",
       "<thead>    <tr> \n",
       "        <th class=\"blank level0\" ></th> \n",
       "        <th class=\"col_heading level0 col0\" >Generated Links</th> \n",
       "    </tr></thead> \n",
       "<tbody>    <tr> \n",
       "        <th id=\"T_61d033f8_3196_11ec_acd7_b469210d5448\" class=\"row_heading level0 row0\" >1</th> \n",
       "        <td id=\"T_61d033f8_3196_11ec_acd7_b469210d5448row0_col0\" class=\"data row0 col0\" ><a target=\"_blank\" id=\"link1\" href=\"http://cordwl-p-02:7001/cordprd/cosmosna/runReports.do?methodToCall=confirmComparisonReport&statactid=DTOstatisticalactivity.StatisticalActivityPK-name%3ABalance%20of%20Payments%20Geographic&m=Test&id=DTOstatisticalactivity.StatisticalActivityPK-name%3ABalance%20of%20Payments%20Geographic&comparisonModeName=DEV22\" onclick=\"changeColor('link1');\">Balance of Payments Geographic</a></td> \n",
       "    </tr>    <tr> \n",
       "        <th id=\"T_61d033f8_3196_11ec_acd7_b469210d5448\" class=\"row_heading level0 row1\" >2</th> \n",
       "        <td id=\"T_61d033f8_3196_11ec_acd7_b469210d5448row1_col0\" class=\"data row1 col0\" ><a target=\"_blank\" id=\"link2\" href=\"http://cordwl-p-02:7001/cordprd/cosmosna/runReports.do?methodToCall=confirmComparisonReport&statactid=DTOstatisticalactivity.StatisticalActivityPK-name%3ABalanced%20TiS%20Satellite&m=Test&id=DTOstatisticalactivity.StatisticalActivityPK-name%3ABalanced%20TiS%20Satellite&comparisonModeName=DEV22\" onclick=\"changeColor('link2');\">Balanced TiS Satellite</a></td> \n",
       "    </tr>    <tr> \n",
       "        <th id=\"T_61d033f8_3196_11ec_acd7_b469210d5448\" class=\"row_heading level0 row2\" >3</th> \n",
       "        <td id=\"T_61d033f8_3196_11ec_acd7_b469210d5448row2_col0\" class=\"data row2 col0\" ><a target=\"_blank\" id=\"link3\" href=\"http://cordwl-p-02:7001/cordprd/cosmosna/runReports.do?methodToCall=confirmComparisonReport&statactid=DTOstatisticalactivity.StatisticalActivityPK-name%3ATiS%20Derived%20Outputs%20Satellite&m=Test&id=DTOstatisticalactivity.StatisticalActivityPK-name%3ATiS%20Derived%20Outputs%20Satellite&comparisonModeName=DEV22\" onclick=\"changeColor('link3');\">TiS Derived Outputs Satellite</a></td> \n",
       "    </tr>    <tr> \n",
       "        <th id=\"T_61d033f8_3196_11ec_acd7_b469210d5448\" class=\"row_heading level0 row3\" >4</th> \n",
       "        <td id=\"T_61d033f8_3196_11ec_acd7_b469210d5448row3_col0\" class=\"data row3 col0\" ><a target=\"_blank\" id=\"link4\" href=\"http://cordwl-p-02:7001/cordprd/cosmosna/runReports.do?methodToCall=confirmComparisonReport&statactid=DTOstatisticalactivity.StatisticalActivityPK-name%3ATiS%20Geographic&m=Test&id=DTOstatisticalactivity.StatisticalActivityPK-name%3ATiS%20Geographic&comparisonModeName=DEV22\" onclick=\"changeColor('link4');\">TiS Geographic</a></td> \n",
       "    </tr>    <tr> \n",
       "        <th id=\"T_61d033f8_3196_11ec_acd7_b469210d5448\" class=\"row_heading level0 row4\" >5</th> \n",
       "        <td id=\"T_61d033f8_3196_11ec_acd7_b469210d5448row4_col0\" class=\"data row4 col0\" ><a target=\"_blank\" id=\"link5\" href=\"http://cordwl-p-02:7001/cordprd/cosmosna/runReports.do?methodToCall=confirmComparisonReport&statactid=DTOstatisticalactivity.StatisticalActivityPK-name%3ATIS%20Sources%20INT%20and%20EXT&m=Test&id=DTOstatisticalactivity.StatisticalActivityPK-name%3ATIS%20Sources%20INT%20and%20EXT&comparisonModeName=DEV22\" onclick=\"changeColor('link5');\">TIS Sources INT and EXT</a></td> \n",
       "    </tr>    <tr> \n",
       "        <th id=\"T_61d033f8_3196_11ec_acd7_b469210d5448\" class=\"row_heading level0 row5\" >6</th> \n",
       "        <td id=\"T_61d033f8_3196_11ec_acd7_b469210d5448row5_col0\" class=\"data row5 col0\" ><a target=\"_blank\" id=\"link6\" href=\"http://cordwl-p-02:7001/cordprd/cosmosna/runReports.do?methodToCall=confirmComparisonReport&statactid=DTOstatisticalactivity.StatisticalActivityPK-name%3ATIS%20Sources%20SURVEYS&m=Test&id=DTOstatisticalactivity.StatisticalActivityPK-name%3ATIS%20Sources%20SURVEYS&comparisonModeName=DEV22\" onclick=\"changeColor('link6');\">TIS Sources SURVEYS</a></td> \n",
       "    </tr>    <tr> \n",
       "        <th id=\"T_61d033f8_3196_11ec_acd7_b469210d5448\" class=\"row_heading level0 row6\" >7</th> \n",
       "        <td id=\"T_61d033f8_3196_11ec_acd7_b469210d5448row6_col0\" class=\"data row6 col0\" ><a target=\"_blank\" id=\"link7\" href=\"http://cordwl-p-02:7001/cordprd/cosmosna/runReports.do?methodToCall=confirmComparisonReport&statactid=DTOstatisticalactivity.StatisticalActivityPK-name%3ATIS%20Sources%20TRANSPORT&m=Test&id=DTOstatisticalactivity.StatisticalActivityPK-name%3ATIS%20Sources%20TRANSPORT&comparisonModeName=DEV22\" onclick=\"changeColor('link7');\">TIS Sources TRANSPORT</a></td> \n",
       "    </tr>    <tr> \n",
       "        <th id=\"T_61d033f8_3196_11ec_acd7_b469210d5448\" class=\"row_heading level0 row7\" >8</th> \n",
       "        <td id=\"T_61d033f8_3196_11ec_acd7_b469210d5448row7_col0\" class=\"data row7 col0\" ><a target=\"_blank\" id=\"link8\" href=\"http://cordwl-p-02:7001/cordprd/cosmosna/runReports.do?methodToCall=confirmComparisonReport&statactid=DTOstatisticalactivity.StatisticalActivityPK-name%3ATiS%20Unbalanced%20Satellite&m=Test&id=DTOstatisticalactivity.StatisticalActivityPK-name%3ATiS%20Unbalanced%20Satellite&comparisonModeName=DEV22\" onclick=\"changeColor('link8');\">TiS Unbalanced Satellite</a></td> \n",
       "    </tr>    <tr> \n",
       "        <th id=\"T_61d033f8_3196_11ec_acd7_b469210d5448\" class=\"row_heading level0 row8\" >9</th> \n",
       "        <td id=\"T_61d033f8_3196_11ec_acd7_b469210d5448row8_col0\" class=\"data row8 col0\" ><a target=\"_blank\" id=\"link9\" href=\"http://cordwl-p-02:7001/cordprd/cosmosna/runReports.do?methodToCall=confirmComparisonReport&statactid=DTOstatisticalactivity.StatisticalActivityPK-name%3AUK%20TiG%20Balanced&m=Test&id=DTOstatisticalactivity.StatisticalActivityPK-name%3AUK%20TiG%20Balanced&comparisonModeName=DEV22\" onclick=\"changeColor('link9');\">UK TiG Balanced</a></td> \n",
       "    </tr>    <tr> \n",
       "        <th id=\"T_61d033f8_3196_11ec_acd7_b469210d5448\" class=\"row_heading level0 row9\" >10</th> \n",
       "        <td id=\"T_61d033f8_3196_11ec_acd7_b469210d5448row9_col0\" class=\"data row9 col0\" ><a target=\"_blank\" id=\"link10\" href=\"http://cordwl-p-02:7001/cordprd/cosmosna/runReports.do?methodToCall=confirmComparisonReport&statactid=DTOstatisticalactivity.StatisticalActivityPK-name%3AUK%20TiG%20Constrained&m=Test&id=DTOstatisticalactivity.StatisticalActivityPK-name%3AUK%20TiG%20Constrained&comparisonModeName=DEV22\" onclick=\"changeColor('link10');\">UK TiG Constrained</a></td> \n",
       "    </tr>    <tr> \n",
       "        <th id=\"T_61d033f8_3196_11ec_acd7_b469210d5448\" class=\"row_heading level0 row10\" >11</th> \n",
       "        <td id=\"T_61d033f8_3196_11ec_acd7_b469210d5448row10_col0\" class=\"data row10 col0\" ><a target=\"_blank\" id=\"link11\" href=\"http://cordwl-p-02:7001/cordprd/cosmosna/runReports.do?methodToCall=confirmComparisonReport&statactid=DTOstatisticalactivity.StatisticalActivityPK-name%3AUK%20TiG%20Deflation%20%26%20Chain&m=Test&id=DTOstatisticalactivity.StatisticalActivityPK-name%3AUK%20TiG%20Deflation%20%26%20Chain&comparisonModeName=DEV22\" onclick=\"changeColor('link11');\">UK TiG Deflation & Chain</a></td> \n",
       "    </tr>    <tr> \n",
       "        <th id=\"T_61d033f8_3196_11ec_acd7_b469210d5448\" class=\"row_heading level0 row11\" >12</th> \n",
       "        <td id=\"T_61d033f8_3196_11ec_acd7_b469210d5448row11_col0\" class=\"data row11 col0\" ><a target=\"_blank\" id=\"link12\" href=\"http://cordwl-p-02:7001/cordprd/cosmosna/runReports.do?methodToCall=confirmComparisonReport&statactid=DTOstatisticalactivity.StatisticalActivityPK-name%3AUK%20TiG%20Derived&m=Test&id=DTOstatisticalactivity.StatisticalActivityPK-name%3AUK%20TiG%20Derived&comparisonModeName=DEV22\" onclick=\"changeColor('link12');\">UK TiG Derived</a></td> \n",
       "    </tr>    <tr> \n",
       "        <th id=\"T_61d033f8_3196_11ec_acd7_b469210d5448\" class=\"row_heading level0 row12\" >13</th> \n",
       "        <td id=\"T_61d033f8_3196_11ec_acd7_b469210d5448row12_col0\" class=\"data row12 col0\" ><a target=\"_blank\" id=\"link13\" href=\"http://cordwl-p-02:7001/cordprd/cosmosna/runReports.do?methodToCall=confirmComparisonReport&statactid=DTOstatisticalactivity.StatisticalActivityPK-name%3AUK%20TiG%20Seas%20Adjust&m=Test&id=DTOstatisticalactivity.StatisticalActivityPK-name%3AUK%20TiG%20Seas%20Adjust&comparisonModeName=DEV22\" onclick=\"changeColor('link13');\">UK TiG Seas Adjust</a></td> \n",
       "    </tr>    <tr> \n",
       "        <th id=\"T_61d033f8_3196_11ec_acd7_b469210d5448\" class=\"row_heading level0 row13\" >14</th> \n",
       "        <td id=\"T_61d033f8_3196_11ec_acd7_b469210d5448row13_col0\" class=\"data row13 col0\" ><a target=\"_blank\" id=\"link14\" href=\"http://cordwl-p-02:7001/cordprd/cosmosna/runReports.do?methodToCall=confirmComparisonReport&statactid=DTOstatisticalactivity.StatisticalActivityPK-name%3AUK%20TiG%20Unbalanced&m=Test&id=DTOstatisticalactivity.StatisticalActivityPK-name%3AUK%20TiG%20Unbalanced&comparisonModeName=DEV22\" onclick=\"changeColor('link14');\">UK TiG Unbalanced</a></td> \n",
       "    </tr>    <tr> \n",
       "        <th id=\"T_61d033f8_3196_11ec_acd7_b469210d5448\" class=\"row_heading level0 row14\" >15</th> \n",
       "        <td id=\"T_61d033f8_3196_11ec_acd7_b469210d5448row14_col0\" class=\"data row14 col0\" ><a target=\"_blank\" id=\"link15\" href=\"http://cordwl-p-02:7001/cordprd/cosmosna/runReports.do?methodToCall=confirmComparisonReport&statactid=DTOstatisticalactivity.StatisticalActivityPK-name%3AUK%20TIS%20Deflator%20Pre%20Processing&m=Test&id=DTOstatisticalactivity.StatisticalActivityPK-name%3AUK%20TIS%20Deflator%20Pre%20Processing&comparisonModeName=DEV22\" onclick=\"changeColor('link15');\">UK TIS Deflator Pre Processing</a></td> \n",
       "    </tr>    <tr> \n",
       "        <th id=\"T_61d033f8_3196_11ec_acd7_b469210d5448\" class=\"row_heading level0 row15\" >16</th> \n",
       "        <td id=\"T_61d033f8_3196_11ec_acd7_b469210d5448row15_col0\" class=\"data row15 col0\" ><a target=\"_blank\" id=\"link16\" href=\"http://cordwl-p-02:7001/cordprd/cosmosna/runReports.do?methodToCall=confirmComparisonReport&statactid=DTOstatisticalactivity.StatisticalActivityPK-name%3AUK%20TIS%20Local%20Aggregation&m=Test&id=DTOstatisticalactivity.StatisticalActivityPK-name%3AUK%20TIS%20Local%20Aggregation&comparisonModeName=DEV22\" onclick=\"changeColor('link16');\">UK TIS Local Aggregation</a></td> \n",
       "    </tr>    <tr> \n",
       "        <th id=\"T_61d033f8_3196_11ec_acd7_b469210d5448\" class=\"row_heading level0 row16\" >17</th> \n",
       "        <td id=\"T_61d033f8_3196_11ec_acd7_b469210d5448row16_col0\" class=\"data row16 col0\" ><a target=\"_blank\" id=\"link17\" href=\"http://cordwl-p-02:7001/cordprd/cosmosna/runReports.do?methodToCall=confirmComparisonReport&statactid=DTOstatisticalactivity.StatisticalActivityPK-name%3AUK%20Trade%20in%20Goods%20Local&m=Test&id=DTOstatisticalactivity.StatisticalActivityPK-name%3AUK%20Trade%20in%20Goods%20Local&comparisonModeName=DEV22\" onclick=\"changeColor('link17');\">UK Trade in Goods Local</a></td> \n",
       "    </tr>    <tr> \n",
       "        <th id=\"T_61d033f8_3196_11ec_acd7_b469210d5448\" class=\"row_heading level0 row17\" >18</th> \n",
       "        <td id=\"T_61d033f8_3196_11ec_acd7_b469210d5448row17_col0\" class=\"data row17 col0\" ><a target=\"_blank\" id=\"link18\" href=\"http://cordwl-p-02:7001/cordprd/cosmosna/runReports.do?methodToCall=confirmComparisonReport&statactid=DTOstatisticalactivity.StatisticalActivityPK-name%3AUK%20Trade%20In%20Goods&m=Test&id=DTOstatisticalactivity.StatisticalActivityPK-name%3AUK%20Trade%20In%20Goods&comparisonModeName=DEV22\" onclick=\"changeColor('link18');\">UK Trade In Goods</a></td> \n",
       "    </tr>    <tr> \n",
       "        <th id=\"T_61d033f8_3196_11ec_acd7_b469210d5448\" class=\"row_heading level0 row18\" >19</th> \n",
       "        <td id=\"T_61d033f8_3196_11ec_acd7_b469210d5448row18_col0\" class=\"data row18 col0\" ><a target=\"_blank\" id=\"link19\" href=\"http://cordwl-p-02:7001/cordprd/cosmosna/runReports.do?methodToCall=confirmComparisonReport&statactid=DTOstatisticalactivity.StatisticalActivityPK-name%3AUK%20Trade%20in%20Services%20Local&m=Test&id=DTOstatisticalactivity.StatisticalActivityPK-name%3AUK%20Trade%20in%20Services%20Local&comparisonModeName=DEV22\" onclick=\"changeColor('link19');\">UK Trade in Services Local</a></td> \n",
       "    </tr>    <tr> \n",
       "        <th id=\"T_61d033f8_3196_11ec_acd7_b469210d5448\" class=\"row_heading level0 row19\" >20</th> \n",
       "        <td id=\"T_61d033f8_3196_11ec_acd7_b469210d5448row19_col0\" class=\"data row19 col0\" ><a target=\"_blank\" id=\"link20\" href=\"http://cordwl-p-02:7001/cordprd/cosmosna/runReports.do?methodToCall=confirmComparisonReport&statactid=DTOstatisticalactivity.StatisticalActivityPK-name%3AUK%20Trade%20In%20Services&m=Test&id=DTOstatisticalactivity.StatisticalActivityPK-name%3AUK%20Trade%20In%20Services&comparisonModeName=DEV22\" onclick=\"changeColor('link20');\">UK Trade In Services</a></td> \n",
       "    </tr>    <tr> \n",
       "        <th id=\"T_61d033f8_3196_11ec_acd7_b469210d5448\" class=\"row_heading level0 row20\" >21</th> \n",
       "        <td id=\"T_61d033f8_3196_11ec_acd7_b469210d5448row20_col0\" class=\"data row20 col0\" ><a target=\"_blank\" id=\"link21\" href=\"http://cordwl-p-02:7001/cordprd/cosmosna/runReports.do?methodToCall=confirmComparisonReport&statactid=DTOstatisticalactivity.StatisticalActivityPK-name%3AUK%20Trade%20Local&m=Test&id=DTOstatisticalactivity.StatisticalActivityPK-name%3AUK%20Trade%20Local&comparisonModeName=DEV22\" onclick=\"changeColor('link21');\">UK Trade Local</a></td> \n",
       "    </tr>    <tr> \n",
       "        <th id=\"T_61d033f8_3196_11ec_acd7_b469210d5448\" class=\"row_heading level0 row21\" >22</th> \n",
       "        <td id=\"T_61d033f8_3196_11ec_acd7_b469210d5448row21_col0\" class=\"data row21 col0\" ><a target=\"_blank\" id=\"link22\" href=\"http://cordwl-p-02:7001/cordprd/cosmosna/runReports.do?methodToCall=confirmComparisonReport&statactid=DTOstatisticalactivity.StatisticalActivityPK-name%3AUK%20Trade&m=Test&id=DTOstatisticalactivity.StatisticalActivityPK-name%3AUK%20Trade&comparisonModeName=DEV22\" onclick=\"changeColor('link22');\">UK Trade</a></td> \n",
       "    </tr></tbody> \n",
       "</table> "
      ],
      "text/plain": [
       "<pandas.io.formats.style.Styler at 0x245a5a88d68>"
      ]
     },
     "metadata": {},
     "output_type": "display_data"
    }
   ],
   "source": [
    "display(out.style.format({'Generated Links': make_clickable}))"
   ]
  }
 ],
 "metadata": {
  "kernelspec": {
   "display_name": "Python 3",
   "language": "python",
   "name": "python3"
  },
  "language_info": {
   "codemirror_mode": {
    "name": "ipython",
    "version": 3
   },
   "file_extension": ".py",
   "mimetype": "text/x-python",
   "name": "python",
   "nbconvert_exporter": "python",
   "pygments_lexer": "ipython3",
   "version": "3.6.1"
  }
 },
 "nbformat": 4,
 "nbformat_minor": 2
}
